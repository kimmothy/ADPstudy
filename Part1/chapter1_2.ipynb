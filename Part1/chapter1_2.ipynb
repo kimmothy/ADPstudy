{
 "cells": [
  {
   "cell_type": "code",
   "execution_count": null,
   "id": "11336d7f-da7e-44b2-a5a5-4891677d9118",
   "metadata": {},
   "outputs": [],
   "source": [
    "import pandas as pd\n",
    "import numpy as np\n",
    "from sklearn.datasets import load_iris"
   ]
  },
  {
   "cell_type": "code",
   "execution_count": null,
   "id": "d77ecd6a",
   "metadata": {},
   "outputs": [],
   "source": [
    "np.array([[[]]])"
   ]
  },
  {
   "cell_type": "code",
   "execution_count": null,
   "id": "e6c9ef5c",
   "metadata": {},
   "outputs": [],
   "source": [
    "df = pd.DataFrame(data=[[\"kor\", 70],[\"math\", 80]], columns=[\"class\", \"score\"])\n",
    "print(df)"
   ]
  },
  {
   "cell_type": "code",
   "execution_count": null,
   "id": "ea69b9d0",
   "metadata": {},
   "outputs": [],
   "source": [
    "iris = load_iris()\n",
    "print(type(iris))\n",
    "iris = pd.DataFrame(iris.data, columns=iris.feature_names)\n",
    "print(type(iris))\n",
    "print(iris)"
   ]
  },
  {
   "cell_type": "code",
   "execution_count": null,
   "id": "ecdf0ece",
   "metadata": {},
   "outputs": [],
   "source": [
    "print(iris.head())\n",
    "print(iris.tail())"
   ]
  },
  {
   "cell_type": "code",
   "execution_count": null,
   "id": "4b0139e0",
   "metadata": {},
   "outputs": [],
   "source": [
    "print(iris.info())\n",
    "print(len(iris))"
   ]
  },
  {
   "cell_type": "code",
   "execution_count": null,
   "id": "41313e83",
   "metadata": {},
   "outputs": [],
   "source": [
    "print(df.index)\n",
    "print(list(df.index))\n",
    "df.index=[\"A\", \"B\"]\n",
    "print(df.index)\n",
    "print(df)"
   ]
  },
  {
   "cell_type": "code",
   "execution_count": null,
   "id": "283acaef",
   "metadata": {},
   "outputs": [],
   "source": [
    "df.set_index(\"class\", drop=True, append=False, inplace=True)\n",
    "print(df)"
   ]
  },
  {
   "cell_type": "code",
   "execution_count": null,
   "id": "e48e28a5",
   "metadata": {},
   "outputs": [],
   "source": [
    "df.reset_index(drop=False, inplace=True)\n",
    "print(df)"
   ]
  },
  {
   "cell_type": "code",
   "execution_count": null,
   "id": "ee4d2436",
   "metadata": {},
   "outputs": [],
   "source": [
    "print(iris.columns)"
   ]
  },
  {
   "cell_type": "code",
   "execution_count": null,
   "id": "d67eaded",
   "metadata": {},
   "outputs": [],
   "source": [
    "iris.columns = [\"sepal length\", \"sepal width\", \"petal length\", \"petal width\"]\n",
    "print(iris.columns)\n",
    "print(iris)"
   ]
  },
  {
   "cell_type": "code",
   "execution_count": null,
   "id": "6b984bbd",
   "metadata": {},
   "outputs": [],
   "source": [
    "# print(iris.columns)\n",
    "# print(type(iris.columns))\n",
    "# print(iris.columns.str)\n",
    "# print(type(iris.columns.str))\n",
    "# print(iris.columns.str.replace)\n",
    "# print(type(iris.columns.str.replace))\n",
    "\n",
    "iris.columns = iris.columns.str.replace(\" \", \"_\")\n",
    "print(iris.head(3))\n"
   ]
  }
 ],
 "metadata": {
  "kernelspec": {
   "display_name": "Python 3 (ipykernel)",
   "language": "python",
   "name": "python3"
  },
  "language_info": {
   "codemirror_mode": {
    "name": "ipython",
    "version": 3
   },
   "file_extension": ".py",
   "mimetype": "text/x-python",
   "name": "python",
   "nbconvert_exporter": "python",
   "pygments_lexer": "ipython3",
   "version": "3.12.4"
  }
 },
 "nbformat": 4,
 "nbformat_minor": 5
}
