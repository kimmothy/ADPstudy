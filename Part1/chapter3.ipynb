{
 "cells": [
  {
   "cell_type": "code",
   "execution_count": null,
   "metadata": {},
   "outputs": [],
   "source": [
    "from sklearn.datasets import load_iris\n",
    "import pandas as pd\n",
    "iris = load_iris()\n",
    "iris = pd.DataFrame(data=iris.data, columns=iris.feature_names)\n",
    "print(iris[:4])"
   ]
  },
  {
   "cell_type": "code",
   "execution_count": null,
   "metadata": {},
   "outputs": [],
   "source": [
    "iris.columns = iris.columns.str.replace(\" (cm)\", \"\").str.replace(\" \", \"_\")\n",
    "print(iris)\n",
    "iris[\"sepal_length\"].head(4)\n",
    "iris[\"sepal_length\"][:5]"
   ]
  },
  {
   "cell_type": "code",
   "execution_count": null,
   "metadata": {},
   "outputs": [],
   "source": [
    "# iris.columns\n",
    "iris[[\"sepal_length\", \"sepal_width\"]]"
   ]
  },
  {
   "cell_type": "code",
   "execution_count": null,
   "metadata": {},
   "outputs": [],
   "source": [
    "iris.iloc[:4]\n",
    "iris.iloc[:4, :2]\n",
    "iris.iloc[2:6, [1,2,3]]"
   ]
  },
  {
   "cell_type": "code",
   "execution_count": null,
   "metadata": {},
   "outputs": [],
   "source": [
    "iris.loc[[1,2], \"sepal_width\":\"petal_length\"]"
   ]
  },
  {
   "cell_type": "code",
   "execution_count": null,
   "metadata": {},
   "outputs": [],
   "source": [
    "del score"
   ]
  },
  {
   "cell_type": "code",
   "execution_count": null,
   "metadata": {},
   "outputs": [],
   "source": [
    "score = pd.DataFrame({\"국어\": [90, 80], \"영어\": [10, 10], \"수학\":[70, 70]}, index = [\"장화\", \"홍련\"])\n",
    "# score\n",
    "score.loc[\"홍련\", \"영어\"] = 100\n",
    "score[\"국어\"] = score[\"국어\"] - 5\n",
    "score\n"
   ]
  },
  {
   "cell_type": "code",
   "execution_count": null,
   "metadata": {},
   "outputs": [],
   "source": [
    "print(score[\"국어\"])\n",
    "print(type(score[\"국어\"]))\n",
    "print(score[\"국어\"]-5)\n",
    "print(type(score[\"국어\"]-5))\n",
    "print(score.loc[\"홍련\", \"영어\"])\n",
    "print(type(score.loc[\"홍련\", \"영어\"]))"
   ]
  },
  {
   "cell_type": "code",
   "execution_count": null,
   "metadata": {},
   "outputs": [],
   "source": [
    "new_students = pd.DataFrame({\"국어\": [70, 85], \"수학\": [65, 100], \"영어\": [95, 65]}, index=[\"콩쥐\", \"팥쥐\"])\n",
    "score = pd.concat([score, new_students])\n",
    "\n",
    "single_student = pd.Series({\"국어\": 100, \"수학\": 100, \"영어\":100}, name=\"햇님\")\n",
    "\n",
    "score.loc[\"햇님\"] = single_student\n",
    "\n",
    "score\n"
   ]
  },
  {
   "cell_type": "code",
   "execution_count": null,
   "metadata": {},
   "outputs": [],
   "source": [
    "science = [80, 70, 90, 85, 75]\n",
    "score[\"과학\"] = science\n",
    "\n",
    "score[\"학년\"] = 1\n",
    "score"
   ]
  },
  {
   "cell_type": "code",
   "execution_count": null,
   "metadata": {},
   "outputs": [],
   "source": [
    "score[\"총점\"] = score[\"국어\"] + score[\"수학\"] + score[\"영어\"] + score[\"과학\"]\n",
    "score\n",
    "# print(type(score[\"국어\"] + score[\"수학\"] + score[\"영어\"] + score[\"과학\"]))"
   ]
  },
  {
   "cell_type": "code",
   "execution_count": null,
   "metadata": {},
   "outputs": [],
   "source": [
    "# single_student\n",
    "# type(score[\"수학\"])\n",
    "# print(score[:3])"
   ]
  }
 ],
 "metadata": {
  "kernelspec": {
   "display_name": "base",
   "language": "python",
   "name": "python3"
  },
  "language_info": {
   "name": "python",
   "version": "undefined.undefined.undefined"
  }
 },
 "nbformat": 4,
 "nbformat_minor": 2
}
