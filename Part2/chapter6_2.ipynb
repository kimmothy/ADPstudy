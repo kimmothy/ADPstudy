{
 "cells": [
  {
   "cell_type": "code",
   "execution_count": null,
   "metadata": {},
   "outputs": [],
   "source": [
    "import pandas as pd"
   ]
  },
  {
   "cell_type": "code",
   "execution_count": null,
   "metadata": {},
   "outputs": [],
   "source": [
    "product = pd.DataFrame({\n",
    "    \"상품코드\": [\"G1\", \"G2\", \"G3\", \"G4\"],\n",
    "    \"상품명\": [\"우유\", \"감자\", \"빵\", \"치킨\"]\n",
    "})\n",
    "\n",
    "sale = pd.DataFrame({\n",
    "    \"주문번호\": [1001, 1002, 1002, 1003, 1004],\n",
    "    \"상품코드\": [\"G4\", \"G3\", \"G1\", \"G3\", \"G5\"],\n",
    "    \"주문수량\": [1, 4, 2, 2, 3]\n",
    "})"
   ]
  },
  {
   "cell_type": "code",
   "execution_count": null,
   "metadata": {},
   "outputs": [],
   "source": [
    "print(product)\n",
    "print(sale)"
   ]
  },
  {
   "cell_type": "code",
   "execution_count": null,
   "metadata": {},
   "outputs": [],
   "source": [
    "sale.merge(product, on=\"상품코드\", how=\"outer\", sort=True)"
   ]
  },
  {
   "cell_type": "code",
   "execution_count": null,
   "metadata": {},
   "outputs": [],
   "source": [
    "sale.merge(product, left_on=\"상품코드\", right_on=\"상품코드\", how=\"left\", sort=True)"
   ]
  }
 ],
 "metadata": {
  "kernelspec": {
   "display_name": "base",
   "language": "python",
   "name": "python3"
  },
  "language_info": {
   "codemirror_mode": {
    "name": "ipython",
    "version": 3
   },
   "file_extension": ".py",
   "mimetype": "text/x-python",
   "name": "python",
   "nbconvert_exporter": "python",
   "pygments_lexer": "ipython3",
   "version": "3.12.4"
  }
 },
 "nbformat": 4,
 "nbformat_minor": 2
}
