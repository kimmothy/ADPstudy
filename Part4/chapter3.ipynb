{
 "cells": [
  {
   "cell_type": "code",
   "execution_count": 1,
   "metadata": {},
   "outputs": [],
   "source": [
    "import pandas as pd\n",
    "from sklearn.datasets import load_iris\n",
    "\n",
    "IRIS = load_iris()\n",
    "iris = pd.DataFrame(IRIS.data, columns=IRIS.feature_names)\n",
    "iris[\"class\"] = IRIS.target\n",
    "iris[\"class\"] = iris[\"class\"].map({0:'Setosa', 1:'Versicolor', 2:'Virginica'})\n",
    "iris.columns = ['sep_len', 'sep_wid', 'pet_len', 'pet_wid', 'class']\n",
    "del IRIS"
   ]
  },
  {
   "cell_type": "code",
   "execution_count": null,
   "metadata": {},
   "outputs": [],
   "source": [
    "#dummy 컬럼이란 범주형 자료형에서 각 범주를 bool 타입의 한 열로 분리시키는 것이다.\n",
    "\n",
    "iris_dummy = pd.get_dummies(iris, columns=['class'])\n",
    "iris_dummy"
   ]
  }
 ],
 "metadata": {
  "kernelspec": {
   "display_name": "base",
   "language": "python",
   "name": "python3"
  },
  "language_info": {
   "codemirror_mode": {
    "name": "ipython",
    "version": 3
   },
   "file_extension": ".py",
   "mimetype": "text/x-python",
   "name": "python",
   "nbconvert_exporter": "python",
   "pygments_lexer": "ipython3",
   "version": "3.12.4"
  }
 },
 "nbformat": 4,
 "nbformat_minor": 2
}
