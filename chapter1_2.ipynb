{
 "cells": [
  {
   "cell_type": "code",
   "execution_count": null,
   "id": "11336d7f-da7e-44b2-a5a5-4891677d9118",
   "metadata": {},
   "outputs": [],
   "source": [
    "import pandas as pd\n",
    "import numpy as np\n",
    "from sklearn.datasets import load_iris"
   ]
  },
  {
   "cell_type": "code",
   "execution_count": null,
   "id": "d77ecd6a",
   "metadata": {},
   "outputs": [],
   "source": [
    "np.array([[[]]])"
   ]
  },
  {
   "cell_type": "code",
   "execution_count": null,
   "id": "e6c9ef5c",
   "metadata": {},
   "outputs": [],
   "source": [
    "df = pd.DataFrame(data=[[\"kor\", 70],[\"math\", 80]], columns=[\"class\", \"score\"])\n",
    "print(df)"
   ]
  },
  {
   "cell_type": "code",
   "execution_count": null,
   "id": "ea69b9d0",
   "metadata": {},
   "outputs": [],
   "source": [
    "iris = load_iris()\n",
    "print(type(iris))\n",
    "iris = pd.DataFrame(iris.data, columns=iris.feature_names)\n",
    "print(type(iris))\n",
    "print(iris)"
   ]
  },
  {
   "cell_type": "code",
   "execution_count": 27,
   "id": "ecdf0ece",
   "metadata": {},
   "outputs": [
    {
     "name": "stdout",
     "output_type": "stream",
     "text": [
      "   sepal length (cm)  sepal width (cm)  petal length (cm)  petal width (cm)\n",
      "0                5.1               3.5                1.4               0.2\n",
      "1                4.9               3.0                1.4               0.2\n",
      "2                4.7               3.2                1.3               0.2\n",
      "3                4.6               3.1                1.5               0.2\n",
      "4                5.0               3.6                1.4               0.2\n",
      "     sepal length (cm)  sepal width (cm)  petal length (cm)  petal width (cm)\n",
      "145                6.7               3.0                5.2               2.3\n",
      "146                6.3               2.5                5.0               1.9\n",
      "147                6.5               3.0                5.2               2.0\n",
      "148                6.2               3.4                5.4               2.3\n",
      "149                5.9               3.0                5.1               1.8\n"
     ]
    }
   ],
   "source": [
    "print(iris.head())\n",
    "print(iris.tail())"
   ]
  },
  {
   "cell_type": "code",
   "execution_count": null,
   "id": "4b0139e0",
   "metadata": {},
   "outputs": [],
   "source": [
    "print(iris.info())\n",
    "print(len(iris))"
   ]
  },
  {
   "cell_type": "code",
   "execution_count": null,
   "id": "41313e83",
   "metadata": {},
   "outputs": [],
   "source": [
    "print(df.index)\n",
    "print(list(df.index))\n",
    "df.index=[\"A\", \"B\"]\n",
    "print(df.index)\n",
    "print(df)"
   ]
  },
  {
   "cell_type": "code",
   "execution_count": 22,
   "id": "283acaef",
   "metadata": {},
   "outputs": [
    {
     "name": "stdout",
     "output_type": "stream",
     "text": [
      "       score\n",
      "class       \n",
      "kor       70\n",
      "math      80\n"
     ]
    }
   ],
   "source": [
    "df.set_index(\"class\", drop=True, append=False, inplace=True)\n",
    "print(df)"
   ]
  },
  {
   "cell_type": "code",
   "execution_count": 23,
   "id": "e48e28a5",
   "metadata": {},
   "outputs": [
    {
     "name": "stdout",
     "output_type": "stream",
     "text": [
      "  class  score\n",
      "0   kor     70\n",
      "1  math     80\n"
     ]
    }
   ],
   "source": [
    "df.reset_index(drop=False, inplace=True)\n",
    "print(df)"
   ]
  },
  {
   "cell_type": "code",
   "execution_count": 24,
   "id": "ee4d2436",
   "metadata": {},
   "outputs": [
    {
     "name": "stdout",
     "output_type": "stream",
     "text": [
      "Index(['sepal length (cm)', 'sepal width (cm)', 'petal length (cm)',\n",
      "       'petal width (cm)'],\n",
      "      dtype='object')\n"
     ]
    }
   ],
   "source": [
    "print(iris.columns)"
   ]
  },
  {
   "cell_type": "code",
   "execution_count": 29,
   "id": "d67eaded",
   "metadata": {},
   "outputs": [
    {
     "name": "stdout",
     "output_type": "stream",
     "text": [
      "Index(['sepal length', 'sepal width', 'petal length', 'petal width'], dtype='object')\n",
      "     sepal length  sepal width  petal length  petal width\n",
      "0             5.1          3.5           1.4          0.2\n",
      "1             4.9          3.0           1.4          0.2\n",
      "2             4.7          3.2           1.3          0.2\n",
      "3             4.6          3.1           1.5          0.2\n",
      "4             5.0          3.6           1.4          0.2\n",
      "..            ...          ...           ...          ...\n",
      "145           6.7          3.0           5.2          2.3\n",
      "146           6.3          2.5           5.0          1.9\n",
      "147           6.5          3.0           5.2          2.0\n",
      "148           6.2          3.4           5.4          2.3\n",
      "149           5.9          3.0           5.1          1.8\n",
      "\n",
      "[150 rows x 4 columns]\n"
     ]
    }
   ],
   "source": [
    "iris.columns = [\"sepal length\", \"sepal width\", \"petal length\", \"petal width\"]\n",
    "print(iris.columns)\n",
    "print(iris)"
   ]
  },
  {
   "cell_type": "code",
   "execution_count": 33,
   "id": "6b984bbd",
   "metadata": {},
   "outputs": [
    {
     "name": "stdout",
     "output_type": "stream",
     "text": [
      "   sepal_length  sepal_width  petal_length  petal_width\n",
      "0           5.1          3.5           1.4          0.2\n",
      "1           4.9          3.0           1.4          0.2\n",
      "2           4.7          3.2           1.3          0.2\n"
     ]
    }
   ],
   "source": [
    "# print(iris.columns)\n",
    "# print(type(iris.columns))\n",
    "# print(iris.columns.str)\n",
    "# print(type(iris.columns.str))\n",
    "# print(iris.columns.str.replace)\n",
    "# print(type(iris.columns.str.replace))\n",
    "\n",
    "iris.columns = iris.columns.str.replace(\" \", \"_\")\n",
    "print(iris.head(3))\n"
   ]
  }
 ],
 "metadata": {
  "kernelspec": {
   "display_name": "Python 3 (ipykernel)",
   "language": "python",
   "name": "python3"
  },
  "language_info": {
   "codemirror_mode": {
    "name": "ipython",
    "version": 3
   },
   "file_extension": ".py",
   "mimetype": "text/x-python",
   "name": "python",
   "nbconvert_exporter": "python",
   "pygments_lexer": "ipython3",
   "version": "3.12.4"
  }
 },
 "nbformat": 4,
 "nbformat_minor": 5
}
